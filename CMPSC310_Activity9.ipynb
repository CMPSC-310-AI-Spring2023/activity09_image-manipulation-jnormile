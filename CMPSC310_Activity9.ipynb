{
  "nbformat": 4,
  "nbformat_minor": 0,
  "metadata": {
    "colab": {
      "provenance": [],
      "include_colab_link": true
    },
    "kernelspec": {
      "name": "python3",
      "display_name": "Python 3"
    },
    "language_info": {
      "name": "python"
    }
  },
  "cells": [
    {
      "cell_type": "markdown",
      "metadata": {
        "id": "view-in-github",
        "colab_type": "text"
      },
      "source": [
        "<a href=\"https://colab.research.google.com/github/CMPSC-310-AI-Spring2023/activity09_image-manipulation-jnormile/blob/main/CMPSC310_Activity9.ipynb\" target=\"_parent\"><img src=\"https://colab.research.google.com/assets/colab-badge.svg\" alt=\"Open In Colab\"/></a>"
      ]
    },
    {
      "cell_type": "markdown",
      "source": [
        "# **Activity 9: Image Manipulation **\n"
      ],
      "metadata": {
        "id": "vcrrIOhGjS0Z"
      }
    },
    {
      "cell_type": "code",
      "source": [
        "import numpy as np\n",
        "import cv2\n",
        "\n",
        "rect = np.zeros((300, 300), dtype=\"uint8\")\n",
        "cv2.rectangle(rect, (25, 25), (275, 275), 255, -1)\n",
        "cv2.imwrite(\"bitwise/Rectangle.png\", rect)\n",
        "\n",
        "circ = np.zeros((300, 300), dtype=\"uint8\")\n",
        "cv2.circle(circ, (150, 150), 150, 255, -1)\n",
        "cv2.imwrite(\"bitwise/Circle.png\", circ)\n",
        "\n",
        "bitwiseAnd = cv2.bitwise_and(rect, circ)\n",
        "cv2.imwrite(\"bitwise/AND.png\", bitwiseAnd)\n",
        "\n",
        "bitwiseOr = cv2.bitwise_or(rect, circ)\n",
        "cv2.imwrite(\"bitwise/OR.png\", bitwiseOr)\n",
        "\n",
        "bitwiseXor = cv2.bitwise_xor(rect, circ)\n",
        "cv2.imwrite(\"bitwise/XOR.png\", bitwiseXor)\n",
        "\n",
        "bitwiseNot = cv2.bitwise_not(rect, circ)\n",
        "cv2.imwrite(\"bitwise/NOT.png\", bitwiseNot)"
      ],
      "metadata": {
        "id": "Ae1xMow4N68C",
        "outputId": "1ca0c375-dc10-4e85-a176-161a3715d4ba",
        "colab": {
          "base_uri": "https://localhost:8080/"
        }
      },
      "execution_count": 8,
      "outputs": [
        {
          "output_type": "execute_result",
          "data": {
            "text/plain": [
              "False"
            ]
          },
          "metadata": {},
          "execution_count": 8
        }
      ]
    },
    {
      "cell_type": "code",
      "source": [
        "from google.colab import drive\n",
        "drive.mount('/content/drive')"
      ],
      "metadata": {
        "id": "F1yoZR30eZGr",
        "outputId": "a4ddaf51-cb2b-41fa-ce5f-40cd108f36e7",
        "colab": {
          "base_uri": "https://localhost:8080/"
        }
      },
      "execution_count": 9,
      "outputs": [
        {
          "output_type": "stream",
          "name": "stdout",
          "text": [
            "Drive already mounted at /content/drive; to attempt to forcibly remount, call drive.mount(\"/content/drive\", force_remount=True).\n"
          ]
        }
      ]
    },
    {
      "cell_type": "code",
      "source": [
        "import numpy as np\n",
        "import cv2\n",
        "image = cv2.imread('/content/drive/My Drive/CMPSC310_ColabNotebooks/images/flint1.jpg')\n",
        "print(image.shape)\n",
        "\n",
        "mask = np.zeros(image.shape[:2], dtype=\"uint8\")\n",
        "(cX, cY) = (image.shape[1] // 2, image.shape[0] // 2)\n",
        "cv2.rectangle(mask, (cX - 75, cY - 75), (cX + 75, cY + 75), 255, -1)\n",
        "cv2.imwrite(\"mask1.png\", mask)\n",
        "\n",
        "masked = cv2.bitwise_and(image, image, mask=mask)\n",
        "cv2.imwrite('/content/drive/My Drive/CMPSC310_ColabNotebooks/images/masked1.jpg', masked)"
      ],
      "metadata": {
        "id": "BA5p2nR_eXP2",
        "outputId": "df226f57-ad71-4b3e-8139-517815cd7af7",
        "colab": {
          "base_uri": "https://localhost:8080/"
        }
      },
      "execution_count": 23,
      "outputs": [
        {
          "output_type": "stream",
          "name": "stdout",
          "text": [
            "(467, 350, 3)\n"
          ]
        },
        {
          "output_type": "execute_result",
          "data": {
            "text/plain": [
              "True"
            ]
          },
          "metadata": {},
          "execution_count": 23
        }
      ]
    },
    {
      "cell_type": "code",
      "source": [
        "mask = np.zeros(image.shape[:2], dtype=\"uint8\")\n",
        "(cX, cY) = (image.shape[1] // 2, image.shape[0] // 2)\n",
        "cv2.circle(mask, (cX, cY), 100, 255, -1)\n",
        "cv2.imwrite(\"mask2.png\", mask)\n",
        "\n",
        "masked = cv2.bitwise_and(image, image, mask=mask)\n",
        "cv2.imwrite('/content/drive/My Drive/CMPSC310_ColabNotebooks/images/masked2.jpg', masked)\n",
        "\n",
        "gray = cv2.cvtColor(masked, cv2.COLOR_BGR2GRAY)\n",
        "cv2.imwrite(\"gray.png\", gray)"
      ],
      "metadata": {
        "id": "HCF_uv_WgdGb",
        "outputId": "4c045350-d4da-4237-e053-c761dfcfcf2d",
        "colab": {
          "base_uri": "https://localhost:8080/"
        }
      },
      "execution_count": 26,
      "outputs": [
        {
          "output_type": "execute_result",
          "data": {
            "text/plain": [
              "True"
            ]
          },
          "metadata": {},
          "execution_count": 26
        }
      ]
    },
    {
      "cell_type": "code",
      "source": [
        "import numpy as np\n",
        "import cv2\n",
        "\n",
        "image = cv2.imread(\"/content/drive/My Drive/CMPSC310_ColabNotebooks/images/awards.png\")\n",
        "print(image.shape)\n",
        "\n",
        "mask = np.zeros(image.shape[:2], dtype=\"uint8\")\n",
        "(cX, cY) = (image.shape[1] // 2, image.shape[0] // 2)\n",
        "cv2.rectangle(mask, (cX - 1620, cY - 840), (cX + 1620, cY - 40), 255, -1)\n",
        "cv2.imwrite(\"maskawards.png\", mask)\n",
        "\n",
        "masked = cv2.bitwise_and(image, image, mask=mask)\n",
        "cv2.imwrite('/content/drive/My Drive/CMPSC310_ColabNotebooks/images/maskedawards.png', masked)"
      ],
      "metadata": {
        "id": "j9Q41M7HiYkD",
        "outputId": "49e89302-5980-4e67-aca0-e8f7e0a2e7ae",
        "colab": {
          "base_uri": "https://localhost:8080/"
        }
      },
      "execution_count": 38,
      "outputs": [
        {
          "output_type": "stream",
          "name": "stdout",
          "text": [
            "(3024, 4032, 3)\n"
          ]
        },
        {
          "output_type": "execute_result",
          "data": {
            "text/plain": [
              "True"
            ]
          },
          "metadata": {},
          "execution_count": 38
        }
      ]
    }
  ]
}